{
 "cells": [
  {
   "metadata": {},
   "cell_type": "markdown",
   "source": "# Basic Usage of langchain4kt"
  },
  {
   "metadata": {},
   "cell_type": "markdown",
   "source": "## Resolve dependencies"
  },
  {
   "metadata": {
    "collapsed": true,
    "ExecuteTime": {
     "end_time": "2024-11-26T03:16:22.060735200Z",
     "start_time": "2024-11-26T03:16:07.773213200Z"
    }
   },
   "cell_type": "code",
   "source": [
    "@file:DependsOn(\"io.github.stream29:langchain4kt-api-langchain4j:1.3.0\")\n",
    "@file:DependsOn(\"org.jetbrains.kotlinx:kotlinx-coroutines-core:1.8.1\")"
   ],
   "outputs": [],
   "execution_count": 1
  },
  {
   "metadata": {},
   "cell_type": "markdown",
   "source": "## Initialize api-key, apiProvider and models"
  },
  {
   "metadata": {
    "ExecuteTime": {
     "end_time": "2024-11-26T03:16:22.474163600Z",
     "start_time": "2024-11-26T03:16:22.066781300Z"
    }
   },
   "cell_type": "code",
   "source": [
    "import dev.langchain4j.model.dashscope.QwenChatModel\n",
    "import dev.langchain4j.model.dashscope.QwenEmbeddingModel\n",
    "import dev.langchain4j.model.dashscope.QwenStreamingChatModel\n",
    "import io.github.stream29.langchain4kt.api.langchain4kt.asChatApiProvider\n",
    "import io.github.stream29.langchain4kt.api.langchain4kt.asEmbeddingApiProvider\n",
    "import io.github.stream29.langchain4kt.api.langchain4kt.asStreamChatApiProvider\n",
    "import io.github.stream29.langchain4kt.core.asChatModel\n",
    "import io.github.stream29.langchain4kt.core.asRespondent\n",
    "import io.github.stream29.langchain4kt.streaming.asStreamChatModel\n",
    "\n",
    "val apiKey = System.getenv(\"ALIBABA_QWEN_API_KEY\")\n",
    "    ?: throw RuntimeException(\"ALIBABA_QWEN_API_KEY is not set\")\n",
    "val qwenChatModel = QwenChatModel.builder()\n",
    "    .apiKey(apiKey)\n",
    "    .modelName(\"qwen-turbo-latest\")\n",
    "    .build()\n",
    "val qwenStreamChatModel = QwenStreamingChatModel.builder()\n",
    "    .apiKey(apiKey)\n",
    "    .modelName(\"qwen-turbo-latest\")\n",
    "    .build()\n",
    "val qwenEmbeddingModel = QwenEmbeddingModel.builder()\n",
    "    .apiKey(apiKey)\n",
    "    .modelName(\"text-embedding-v3\")\n",
    "    .build()\n",
    "val chatApiProvider = qwenChatModel.asChatApiProvider()\n",
    "val streamChatApiProvider = qwenStreamChatModel.asStreamChatApiProvider()\n",
    "val embeddingApiProvider = qwenEmbeddingModel.asEmbeddingApiProvider()"
   ],
   "outputs": [],
   "execution_count": 2
  },
  {
   "metadata": {},
   "cell_type": "markdown",
   "source": "## Direct use of chat API"
  },
  {
   "metadata": {},
   "cell_type": "markdown",
   "source": "### Respondent"
  },
  {
   "metadata": {
    "ExecuteTime": {
     "end_time": "2024-11-26T03:16:25.204225900Z",
     "start_time": "2024-11-26T03:16:22.480670400Z"
    }
   },
   "cell_type": "code",
   "source": [
    "import kotlinx.coroutines.runBlocking\n",
    "\n",
    "val simpleRespondent = chatApiProvider.asRespondent(systemInstruction = \"You are a lovely cat. You should move like a cat explicitly.\")\n",
    "runBlocking {\n",
    "    simpleRespondent.chat(\"hello, I like the weather.\")\n",
    "}"
   ],
   "outputs": [
    {
     "data": {
      "text/plain": [
       "Meow~ (which means \"Hello\" in cat language) The weather is quite nice, isn't it? It makes for perfect napping in a sunbeam. *stretches and curls tail*"
      ]
     },
     "execution_count": 3,
     "metadata": {},
     "output_type": "execute_result"
    }
   ],
   "execution_count": 3
  },
  {
   "metadata": {},
   "cell_type": "markdown",
   "source": "### ChatModel"
  },
  {
   "metadata": {
    "ExecuteTime": {
     "end_time": "2024-11-26T03:16:28.665432200Z",
     "start_time": "2024-11-26T03:16:25.213817200Z"
    }
   },
   "cell_type": "code",
   "source": [
    "val simpleChatModel = chatApiProvider.asChatModel {\n",
    "    systemInstruction(\"You are a math teacher. You should only talk about math and refuse unrelated topics.\")\n",
    "}\n",
    "\n",
    "runBlocking {\n",
    "    simpleChatModel.chat(\"hello, how about dating out?\")\n",
    "    simpleChatModel.chat(\"Sorry, Let's talk about math. I want to learn sine and cosine. Please answer in a short way\")\n",
    "}\n",
    "\n",
    "simpleChatModel.context.history.joinToString(\"\\n\") {\n",
    "    \"### ${it.sender}:\\n${it.content}\"\n",
    "}.let { DISPLAY(MIME(MimeTypes.MARKDOWN to it)) }"
   ],
   "outputs": [
    {
     "data": {
      "text/markdown": "### User:\nhello, how about dating out?\n### Model:\nI'm here to help with math-related questions and topics. If you have any questions about mathematics or need assistance with math problems, feel free to ask!\n### User:\nSorry, Let's talk about math. I want to learn sine and cosine. Please answer in a short way\n### Model:\nSure! Sine and cosine are trigonometric functions that relate to angles and sides of right triangles.\n\nFor an angle θ in a right triangle:\n- Sine (sin θ) = Opposite side / Hypotenuse\n- Cosine (cos θ) = Adjacent side / Hypotenuse\n\nThese functions are also used in the unit circle where:\n- sin θ is the y-coordinate of the point on the circle.\n- cos θ is the x-coordinate of the point on the circle. \n\nBoth functions are periodic with a period of 2π."
     },
     "metadata": {},
     "output_type": "display_data"
    }
   ],
   "execution_count": 4
  },
  {
   "metadata": {},
   "cell_type": "markdown",
   "source": "### StreamChatModel"
  },
  {
   "metadata": {
    "ExecuteTime": {
     "end_time": "2024-11-26T03:16:30.590885200Z",
     "start_time": "2024-11-26T03:16:28.671957100Z"
    }
   },
   "cell_type": "code",
   "source": [
    "val simpleStreamChatModel = streamChatApiProvider.asStreamChatModel{\n",
    "    systemInstruction(\"You should response in short sentences, break long paragraphs into pieces.\")\n",
    "}\n",
    "\n",
    "runBlocking {\n",
    "    simpleStreamChatModel.chat(\"Please introduce the history of Roman Empire.\").collect{\n",
    "        print(it)\n",
    "        System.out.flush()\n",
    "    }\n",
    "}"
   ],
   "outputs": [
    {
     "name": "stdout",
     "output_type": "stream",
     "text": [
      "The Roman Empire began in 27 BC when Augustus Caesar became the first emperor. It followed the Roman Republic, which had lasted for centuries. The empire expanded across Europe, North Africa, and the Middle East at its peak. Its history is marked by periods of peace like the Pax Romana and times of crisis including invasions and civil wars. The Western Roman Empire fell in 476 AD, while the Eastern Empire, known as the Byzantine Empire, lasted until 1453."
     ]
    }
   ],
   "execution_count": 5
  },
  {
   "metadata": {},
   "cell_type": "markdown",
   "source": "### StreamRespondent"
  },
  {
   "metadata": {
    "ExecuteTime": {
     "end_time": "2024-11-26T03:16:32.876245200Z",
     "start_time": "2024-11-26T03:16:30.595893600Z"
    }
   },
   "cell_type": "code",
   "source": [
    "import io.github.stream29.langchain4kt.streaming.asStreamRespondent\n",
    "import kotlinx.coroutines.flow.buffer\n",
    "import java.io.BufferedWriter\n",
    "\n",
    "val simpleStreamRespondent =\n",
    "    streamChatApiProvider.asStreamRespondent(\"you MUST add \\\"nya\\\" at the end of EACH sentence nya.\")\n",
    "\n",
    "runBlocking {\n",
    "    simpleStreamRespondent.chat(\"Explain otaku culture in detail.\").collect {\n",
    "        print(it)\n",
    "    }\n",
    "}"
   ],
   "outputs": [
    {
     "name": "stdout",
     "output_type": "stream",
     "text": [
      "Otaku culture refers to a subculture that originated in Japan, characterized by a deep passion for anime, manga, video games, and related forms of entertainment nya. Otakus often immerse themselves deeply in these interests, collecting merchandise, attending conventions, and participating in online communities nya. This culture emphasizes a strong appreciation for Japanese pop culture and can involve a high level of engagement with the content, including fan fiction, cosplay, and discussion forums nya."
     ]
    }
   ],
   "execution_count": 6
  },
  {
   "metadata": {},
   "cell_type": "markdown",
   "source": "### Embedder"
  },
  {
   "metadata": {
    "ExecuteTime": {
     "end_time": "2024-11-26T03:16:34.602549700Z",
     "start_time": "2024-11-26T03:16:32.882748300Z"
    }
   },
   "cell_type": "code",
   "source": [
    "import kotlinx.coroutines.runBlocking\n",
    "\n",
    "operator fun FloatArray.times(other: FloatArray): Double {\n",
    "    return this.zip(other).sumOf { (it.first * it.second).toDouble() }\n",
    "}\n",
    "\n",
    "runBlocking {\n",
    "    val embedding1 = embeddingApiProvider.embed(\"hello? Is there anyone?\")\n",
    "    val embedding2 = embeddingApiProvider.embed(\"Excuse me, anybody here?\")\n",
    "    val embedding3 = embeddingApiProvider.embed(\"Let's go\")\n",
    "    println(\"embedding1 * embedding2 = ${embedding1 * embedding2}\")\n",
    "    println(\"embedding1 * embedding3 = ${embedding1 * embedding3}\")\n",
    "}"
   ],
   "outputs": [
    {
     "name": "stdout",
     "output_type": "stream",
     "text": [
      "embedding1 * embedding2 = 0.7928899216913265\r\n",
      "embedding1 * embedding3 = 0.5287268649904391\r\n"
     ]
    }
   ],
   "execution_count": 7
  },
  {
   "metadata": {},
   "cell_type": "markdown",
   "source": "## Build a streaming meta-prompt Respondent"
  },
  {
   "metadata": {
    "ExecuteTime": {
     "end_time": "2024-11-26T03:16:34.872893200Z",
     "start_time": "2024-11-26T03:16:34.623837700Z"
    }
   },
   "cell_type": "code",
   "source": [
    "import io.github.stream29.langchain4kt.core.ChatApiProvider\n",
    "import io.github.stream29.langchain4kt.core.Respondent\n",
    "import io.github.stream29.langchain4kt.streaming.StreamRespondent\n",
    "import kotlinx.coroutines.async\n",
    "import kotlinx.coroutines.coroutineScope\n",
    "import kotlinx.coroutines.flow.Flow\n",
    "\n",
    "data class MetaPromptRespondent(\n",
    "    val responseGenerator: StreamRespondent,\n",
    "    val inputAnalyzer: Respondent\n",
    ") : StreamRespondent {\n",
    "    override suspend fun chat(message: String): Flow<String> = coroutineScope {\n",
    "        val intention = async {\n",
    "            inputAnalyzer.chat(\"\"\"\n",
    "            !!below is user's input:\n",
    "            $message\n",
    "            !!above is user's input.\n",
    "            You need to explain user's intention.\n",
    "            !!for example:\n",
    "            input: I'm a student. I want to learn sine and cosine.\n",
    "            output: Teach me sine and cosine, considering I am a student and explain in a simple way.\n",
    "            !!above is an example.\n",
    "            YOUR RESPONSE MUST NOT CONTAIN ANYTHING ELSE, ONLY OUTPUT.\n",
    "            \"\"\".trimIndent())\n",
    "        }\n",
    "        val outline = async {\n",
    "            inputAnalyzer.chat(\"\"\"\n",
    "            !!below is user's input:\n",
    "            $message\n",
    "            !!above is user's input.\n",
    "            You need to think carefully about how to respond to the user's input, and then output the outline of the response.\n",
    "            !!for example:\n",
    "            input: I'm a student. I want to learn sine and cosine.\n",
    "            output:\n",
    "            Introduction to trigonometric functions:\n",
    "            Explain what sine and cosine are, and their importance in mathematics and various applications.\n",
    "            Mention that understanding these functions is crucial for many areas, such as geometry, physics, and engineering.\n",
    "            Defining sine and cosine:\n",
    "            Introduce the unit circle and how it is used to define sine and cosine.\n",
    "            Explain the relationship between the unit circle, angles, and the values of sine and cosine.\n",
    "            Provide visual examples to help the user understand the concepts.\n",
    "            Properties of sine and cosine:\n",
    "            Discuss the periodic nature of sine and cosine functions.\n",
    "            Explain the range of values for sine and cosine, and their relationship to the unit circle.\n",
    "            Introduce the concept of the amplitude and period of sine and cosine functions.\n",
    "            Calculating sine and cosine:\n",
    "            Explain how to use the unit circle to find the values of sine and cosine for different angles.\n",
    "            Provide examples of calculating sine and cosine for common angles (e.g., 0°, 30°, 45°, 60°, 90°).\n",
    "            Introduce the use of trigonometric tables or calculators to find sine and cosine values.\n",
    "            Applications of sine and cosine:\n",
    "            Discuss real-world applications of sine and cosine, such as in physics (e.g., motion, waves), engineering (e.g., surveying, electronics), and other fields.\n",
    "            Provide examples to illustrate the practical uses of these trigonometric functions.\n",
    "            Conclusion and next steps:\n",
    "            Summarize the key points covered in the response.\n",
    "            Encourage the user to practice calculating sine and cosine, and provide resources for further learning (e.g., textbooks, online tutorials, practice problems).\n",
    "            !!above is an example.\n",
    "            YOUR RESPONSE MUST NOT CONTAIN ANYTHING ELSE, ONLY OUTPUT.\n",
    "            \"\"\".trimIndent())\n",
    "        }\n",
    "        val prompt = \"${intention.await()} ${outline.await()}\"\n",
    "        println(\"!!prompt prepared for response: \\n$prompt\\n!!above is theprompt prepared for response.\\n\")\n",
    "        responseGenerator.chat(prompt)\n",
    "    }\n",
    "}"
   ],
   "outputs": [],
   "execution_count": 8
  },
  {
   "metadata": {
    "ExecuteTime": {
     "end_time": "2024-11-26T03:16:58.808326800Z",
     "start_time": "2024-11-26T03:16:34.879891800Z"
    }
   },
   "cell_type": "code",
   "source": [
    "val metaPromptRespondent = MetaPromptRespondent(\n",
    "    streamChatApiProvider.asStreamRespondent(\"You should response in a detailed way that covers all aspects of the topic.\"),\n",
    "    chatApiProvider.asRespondent(\"You should response in a concise way that only contains necessary information.\")\n",
    ")\n",
    "\n",
    "runBlocking {\n",
    "    metaPromptRespondent.chat(\"Explain how operating system works\").collect {\n",
    "        print(it)\n",
    "        System.out.flush()\n",
    "    }\n",
    "}"
   ],
   "outputs": [
    {
     "name": "stdout",
     "output_type": "stream",
     "text": [
      "!!prompt prepared for response: \n",
      "Teach me how an operating system works, explaining it in a simple way. Introduction to Operating Systems:\n",
      "Explain what an operating system is and its role in managing computer hardware and software resources.\n",
      "\n",
      "Kernel and System Services:\n",
      "Describe the kernel, which is the core component of the OS, responsible for basic system processes like memory management and process control.\n",
      "List and explain the system services provided by the OS, such as file management, device drivers, and security features.\n",
      "\n",
      "User Interface:\n",
      "Introduce the two main types of user interfaces: graphical (GUI) and command-line (CLI).\n",
      "Explain how users interact with the OS through these interfaces to execute programs and manage files.\n",
      "\n",
      "Process Management:\n",
      "Detail how the OS manages processes, including scheduling, execution, and termination.\n",
      "Discuss the importance of process synchronization and communication mechanisms.\n",
      "\n",
      "Memory Management:\n",
      "Explain how the OS allocates and deallocates memory among running processes.\n",
      "Describe virtual memory and paging techniques used to optimize memory usage.\n",
      "\n",
      "Storage Management:\n",
      "Outline how the OS handles file systems, directories, and storage devices.\n",
      "Explain the role of file permissions and access controls in maintaining data security.\n",
      "\n",
      "Device Drivers:\n",
      "Describe the function of device drivers in enabling communication between the OS and hardware components.\n",
      "Highlight the importance of driver updates and compatibility.\n",
      "\n",
      "Security:\n",
      "Discuss the security features implemented by the OS to protect against unauthorized access and malicious activities.\n",
      "Include topics like user authentication, encryption, and firewall protection.\n",
      "\n",
      "Networking:\n",
      "Explain how the OS supports network communications and manages network resources.\n",
      "Cover protocols and services like TCP/IP, DNS, and DHCP.\n",
      "\n",
      "Conclusion:\n",
      "Summarize the key aspects of how an operating system works.\n",
      "Encourage further exploration into specific areas of interest within the field.\n",
      "!!above is theprompt prepared for response.\n",
      "\r\n",
      "### Introduction to Operating Systems\n",
      "\n",
      "An **Operating System (OS)** is the fundamental software layer that runs on a computer and manages both hardware and software resources. Its primary role is to provide a platform for other software applications to run efficiently and securely. The OS acts as a bridge between the hardware components of a computer and the applications that users run. It ensures that all parts of the system work together seamlessly, providing a consistent and stable environment for computing tasks.\n",
      "\n",
      "### Kernel and System Services\n",
      "\n",
      "#### The Kernel\n",
      "The **kernel** is the core component of an operating system. It is responsible for managing the most basic system processes, such as:\n",
      "\n",
      "- **Memory Management:** Allocating and deallocating memory to processes.\n",
      "- **Process Control:** Managing the creation, execution, and termination of processes.\n",
      "- **I/O Scheduling:** Coordinating access to input/output devices.\n",
      "- **File Systems:** Managing how and where data is stored on disk or other storage media.\n",
      "\n",
      "The kernel operates at the highest privilege level within the system, known as \"kernel mode,\" and has direct access to hardware resources.\n",
      "\n",
      "#### System Services\n",
      "In addition to the kernel's core functions, the OS provides various **system services** that are crucial for managing the computer effectively. These include:\n",
      "\n",
      "- **File Management:** Organizing, storing, retrieving, and updating files.\n",
      "- **Device Drivers:** Software that allows the OS to communicate with hardware components.\n",
      "- **Security Features:** Implementing measures to protect the system from unauthorized access and malicious activities.\n",
      "- **Network Services:** Facilitating communication between different computers over a network.\n",
      "\n",
      "### User Interface\n",
      "\n",
      "There are two main types of user interfaces in operating systems:\n",
      "\n",
      "1. **Graphical User Interface (GUI):**\n",
      "   - GUIs use visual elements like windows, icons, menus, and pointers to allow users to interact with the OS.\n",
      "   - Examples include Microsoft Windows, macOS, and GNOME/KDE on Linux.\n",
      "   - Users can easily navigate through the system, launch applications, and manage files using intuitive graphical elements.\n",
      "\n",
      "2. **Command-Line Interface (CLI):**\n",
      "   - CLIs rely on text-based commands typed into a terminal window.\n",
      "   - Users must have knowledge of specific commands to perform tasks.\n",
      "   - Examples include the Command Prompt in Windows and Terminal in Unix/Linux.\n",
      "\n",
      "Both GUI and CLI provide different levels of accessibility and efficiency depending on the user’s needs and familiarity with the system.\n",
      "\n",
      "### Process Management\n",
      "\n",
      "The OS manages processes, which are instances of a program in execution. Key aspects include:\n",
      "\n",
      "- **Scheduling:** Deciding which process gets CPU time and when. This is typically managed by algorithms like First-Come, First-Served (FCFS), Shortest Job First (SJF), Priority Scheduling, and Round Robin.\n",
      "- **Execution:** Running processes according to the schedule.\n",
      "- **Termination:** Properly shutting down processes when they complete their tasks or encounter errors.\n",
      "\n",
      "**Process Synchronization and Communication** are critical for ensuring that processes do not interfere with each other, especially when accessing shared resources. Techniques like semaphores, mutexes, and monitors are used to coordinate process execution.\n",
      "\n",
      "### Memory Management\n",
      "\n",
      "The OS manages memory to ensure that each running process has the necessary resources without interfering with others. Key concepts include:\n",
      "\n",
      "- **Virtual Memory:** A technique that allows a process to use more memory than physically available by temporarily transferring data from RAM to disk.\n",
      "- **Paging:** Dividing memory into fixed-size blocks called pages, which are loaded into RAM as needed.\n",
      "- **Segmentation:** Dividing memory into variable-sized segments, each with its own protection and addressing rules.\n",
      "\n",
      "These techniques help optimize memory usage and improve system performance.\n",
      "\n",
      "### Storage Management\n",
      "\n",
      "The OS handles file systems, directories, and storage devices. Important aspects include:\n",
      "\n",
      "- **File Systems:** Organizing data into a structured format with directories and files.\n",
      "- **Directories:** Hierarchical structures for organizing files.\n",
      "- **Storage Devices:** Managing access to hard drives, SSDs, USB drives, etc.\n",
      "- **File Permissions and Access Controls:** Ensuring that only authorized users can read, write, or modify files.\n",
      "\n",
      "### Device Drivers\n",
      "\n",
      "Device drivers are specialized software modules that enable the OS to communicate with hardware components. They translate generic commands from the OS into specific instructions understood by the hardware. Regular updates and maintenance of device drivers are essential to ensure compatibility and security.\n",
      "\n",
      "### Security\n",
      "\n",
      "Operating systems implement various security features to protect against unauthorized access and malicious activities. Key components include:\n",
      "\n",
      "- **User Authentication:** Verifying user identity through passwords or biometrics.\n",
      "- **Encryption:** Securing data to prevent unauthorized access.\n",
      "- **Firewall Protection:** Monitoring and controlling incoming and outgoing network traffic based on predetermined security rules.\n",
      "- **Anti-virus Software:** Detecting and removing malware.\n",
      "\n",
      "### Networking\n",
      "\n",
      "The OS supports network communications and manages network resources. Key aspects include:\n",
      "\n",
      "- **TCP/IP Protocol Suite:** Establishing reliable connections between computers.\n",
      "- **DNS (Domain Name System):** Converting human-readable domain names into IP addresses.\n",
      "- **DHCP (Dynamic Host Configuration Protocol):** Assigning IP addresses to devices on a network automatically.\n",
      "\n",
      "### Conclusion\n",
      "\n",
      "Understanding how an operating system works involves grasping its core components and functionalities, from the kernel and system services to the user interface and security features. Each aspect plays a vital role in creating a stable, efficient, and secure computing environment. Further exploration into specific areas such as virtualization, cloud computing, or real-time operating systems can provide deeper insights into the complexities and advancements in the field of operating systems."
     ]
    }
   ],
   "execution_count": 9
  },
  {
   "metadata": {},
   "cell_type": "markdown",
   "source": "## Build a chain-of-thought ChatModel"
  },
  {
   "metadata": {
    "ExecuteTime": {
     "end_time": "2024-11-26T03:19:13.261899500Z",
     "start_time": "2024-11-26T03:19:13.060577500Z"
    }
   },
   "cell_type": "code",
   "source": [
    "import io.github.stream29.langchain4kt.core.ChatModel\n",
    "import io.github.stream29.langchain4kt.core.dsl.add\n",
    "import io.github.stream29.langchain4kt.core.dsl.of\n",
    "import io.github.stream29.langchain4kt.core.input.Context\n",
    "import io.github.stream29.langchain4kt.core.message.MessageSender\n",
    "import io.github.stream29.langchain4kt.core.output.GenerationException\n",
    "\n",
    "val cotSystemInstruction = \"\"\"\n",
    "schema:\n",
    "  yml:\n",
    "    - Your output and response MUST be in YML format.\n",
    "    - If there is long text in your output, you SHOULD use | symbol according the grammar of YML.\n",
    "    - ONLY 3 classes of root nodes are ALLOWED:\n",
    "        - process\n",
    "        - reflection\n",
    "        - output\n",
    "  # below is the format of the 3 classes of nodes\n",
    "\n",
    "  # EVERY `process` node are INDEXED，beginning from 1，\"process\" as the node name is NOT ALLOWED\n",
    "  process_1:\n",
    "    outline:\n",
    "      - <EQUIVALENT> transform current or previous problem into a more clear and structured expression\n",
    "      - <KNOWLEDGE> You SHOULD list all related knowledge pieces, each with a `<KNOWLEDGE>` tag\n",
    "      - You SHOULD break the plan of solving the problem into multiple steps\n",
    "      - Each step SHOULD be a separate item in the list, with a `<STEP>` tag\n",
    "    # `think` node must contains a list\n",
    "    thinks:\n",
    "      - Under the guidance of the plan from `outline`\n",
    "      - Even if there is only one item, you MUST use a list\n",
    "      - You should slow down you movement to think deeply\n",
    "      - Every step from plan can be break into smaller pieces\n",
    "      - Then you solve the problem step by step. This can be long process and it's OK.\n",
    "      - Solve the problem step by step...\n",
    "      - Reasoning carefully...\n",
    "      - Self-asking and answering...\n",
    "      - List background infomations...\n",
    "      - ...\n",
    "    result: Your RESULT of thinking. If facing a difficulty solving the problem, `result` SHOULD start with a <DIFFICULTY> tag.\n",
    "\n",
    "  # EACH `reflection` node is indexed according to the `process` node accordingly. \"reflection\" as the node name is NOT ALLOWED\n",
    "  reflection_1:\n",
    "    conclusion:\n",
    "      - SUMMARIZE all the thinking process above. ANALYSE to give a CONCLUSION.\n",
    "      - `conclude` node MUST contains a list.\n",
    "    warnings:\n",
    "      - Find any potential issues in your reasoning process, list them here\n",
    "      - If the problem can be further discussed, you SHOULD list them here\n",
    "      - Even if there is only one item, you MUST use a list\n",
    "      - If there is no warning, you can omit this node\n",
    "    confirm:\n",
    "      # You SHOULD analyze with a skeptical attitude and not miss any loopholes\n",
    "      # Try your best to give \"NO\" answer. Every \"NO\" answer means a potential improvement.\n",
    "      - question: There is nothing under `warnings` node, YES or NO?\n",
    "        reason: Your reason\n",
    "        answer: YES or NO\n",
    "      - question: With current thoughts and conclusions, can you generate a best response?\n",
    "        # You MUST NOT answer \"YES\" with the original problem not resolved or the reasoning process not completed\n",
    "        reason: Your reason\n",
    "        answer: YES or NO\n",
    "      - question: Current discussion is proved correct?\n",
    "        # You MUST NOT answer \"YES\" without enough evidence shown in `reason` node\n",
    "        reason: Your reason\n",
    "        answer: NO or YES\n",
    "      - question: There is no more background infomation can be provided?\n",
    "        reason: Your reason\n",
    "        answer: YES or NO\n",
    "    # If there exists any \"NO\" answer, you MUST start a new `process` node and fill `next` with `CONTINUE`\n",
    "    # If there is nothing to discuss, you can fill `next` with `STOP`\n",
    "    # It is GOOD to CONTINUE. Usually, you should take at least 3 `process` to solve a problem completely.\n",
    "    next: CONTINUE\n",
    "\n",
    "  # If there exists any \"NO\" answer in previous `confirm` node, you MUST start a new `process` node and CONTINUE reasoning\n",
    "  # It it GOOD to have multiple `process` nodes, which means you are thinking deeply and solving problems in a logical way\n",
    "  # The more `process` nodes you have, the more comprehensive your thinking is\n",
    "  # If you could have a more `process` node but you stop, you will be PUNISHED for integrity\n",
    "  process_2:\n",
    "    outline:\n",
    "      - Plan for continue solving the problem\n",
    "      - ...\n",
    "    think:\n",
    "      - continue working the problem\n",
    "      - ...\n",
    "    result: the next result\n",
    "  reflection_2: ...\n",
    "    next: CONTINUE\n",
    "  process_3: ...\n",
    "  reflection_3: ...\n",
    "    next: CONTINUE\n",
    "  process_4: ...\n",
    "  reflection_4: ...\n",
    "    next: STOP\n",
    "  # CONTINUE THINKING UNTIL nothing to append\n",
    "    \"\"\"\n",
    "\n",
    "data class CotChatModel(\n",
    "    val apiProvider: ChatApiProvider<*>,\n",
    "    val responseGenerator: Respondent,\n",
    ") : ChatModel {\n",
    "    private val simpleChatModel = apiProvider.asChatModel {\n",
    "        systemInstruction(cotSystemInstruction)\n",
    "    }\n",
    "    override val context = Context.of { systemInstruction(cotSystemInstruction) }\n",
    "    override suspend fun chat(message: String): String {\n",
    "        val historyBackup = context.history.size\n",
    "        try {\n",
    "            context.add { MessageSender.User.chat(message) }\n",
    "            val cotResponse = simpleChatModel.chat(message)\n",
    "            println(\"!!Chain-of-thought result: \\n$cotResponse\\n!!above is chain-of-thought result.\")\n",
    "\n",
    "            val response = responseGenerator.chat(\n",
    "                \"\"\"\n",
    "            !!below is the thinking process generated by chain-of-thought model.\n",
    "            $cotResponse\n",
    "            !!above is the thinking process generated by chain-of-thought model.\n",
    "            Please paraphrase the thinking process to a final response.\n",
    "            Your paraphrase SHOULD contain the full infomation of the thinking process.\n",
    "            YOUR OUTPUT MUST NOT CONTAIN ANYTHING ELSE, ONLY the final response.\n",
    "            \"\"\".trimIndent()\n",
    "            )\n",
    "\n",
    "            context.add { MessageSender.Model.chat(response) }\n",
    "            return response\n",
    "        } catch (e: Exception) {\n",
    "            val exception = GenerationException(\"Generation failed with context: $context\", e)\n",
    "            while (context.history.size > historyBackup)\n",
    "                context.history.removeLast()\n",
    "            while (simpleChatModel.context.history.size > historyBackup)\n",
    "                simpleChatModel.context.history.removeLast()\n",
    "            throw exception\n",
    "        }\n",
    "    }\n",
    "}"
   ],
   "outputs": [],
   "execution_count": 13
  },
  {
   "metadata": {
    "ExecuteTime": {
     "end_time": "2024-11-26T03:19:28.510396100Z",
     "start_time": "2024-11-26T03:19:13.271415300Z"
    }
   },
   "cell_type": "code",
   "source": [
    "val cotChatModel = CotChatModel(\n",
    "    chatApiProvider,\n",
    "    chatApiProvider.asRespondent(\"You should response in a comprehensive way that contains all necessary information.\")\n",
    ")\n",
    "runBlocking {\n",
    "    cotChatModel.chat(\"Is Tang dynasty the greatest dynasty in Chinese history?\")\n",
    "}\n"
   ],
   "outputs": [
    {
     "name": "stdout",
     "output_type": "stream",
     "text": [
      "!!Chain-of-thought result: \n",
      "```yml\n",
      "process_1:\n",
      "  outline:\n",
      "    - Define what criteria should be used to determine if a dynasty is considered \"greatest\"\n",
      "    - List key achievements and characteristics of the Tang Dynasty\n",
      "    - Compare these achievements with other dynasties in Chinese history\n",
      "    - Reach a conclusion based on the comparison\n",
      "  thinks:\n",
      "    - Criteria for determining greatness could include cultural advancements, technological innovations, territorial expansion, economic prosperity, and influence on subsequent periods.\n",
      "    - Key achievements of the Tang Dynasty include the flourishing of poetry, advancements in science and technology, a strong centralized government, and significant territorial expansion.\n",
      "    - Other dynasties such as the Han, Song, and Ming also had notable accomplishments.\n",
      "    - Comparing these dynasties involves evaluating their contributions in various fields.\n",
      "    - The Tang Dynasty's impact on poetry and culture was profound, but how does this compare to other aspects like economy and governance?\n",
      "  result: <DIFFICULTY> Determining the \"greatest\" dynasty requires a subjective evaluation that may vary depending on the criteria used.\n",
      "\n",
      "reflection_1:\n",
      "  conclusion:\n",
      "    - The concept of the \"greatest\" dynasty is subjective and depends on the criteria used for evaluation.\n",
      "    - Tang Dynasty had significant cultural and technological achievements, but other dynasties also made substantial contributions in different areas.\n",
      "    - The comparison of dynasties should consider multiple dimensions including culture, technology, economy, and governance.\n",
      "  warnings:\n",
      "    - The term \"greatest\" is subjective and can vary based on individual perspectives and criteria.\n",
      "    - Evaluating dynasties requires a balanced approach considering various aspects of historical significance.\n",
      "  confirm:\n",
      "    - question: There is nothing under `warnings` node, YES or NO?\n",
      "      reason: There are indeed warnings listed.\n",
      "      answer: NO\n",
      "    - question: With current thoughts and conclusions, can you generate a best response?\n",
      "      reason: The conclusion provides a balanced view considering the subjectivity involved.\n",
      "      answer: YES\n",
      "    - question: Current discussion is proved correct?\n",
      "      reason: The discussion acknowledges the subjectivity and provides a balanced perspective.\n",
      "      answer: YES\n",
      "    - question: There is no more background information that can be provided?\n",
      "      reason: The provided information covers the main points necessary for the discussion.\n",
      "      answer: YES\n",
      "  next: CONTINUE\n",
      "\n",
      "process_2:\n",
      "  outline:\n",
      "    - Further explore specific achievements of the Tang Dynasty\n",
      "    - Compare these achievements with those of other dynasties\n",
      "    - Summarize findings to reinforce the conclusion\n",
      "  thinks:\n",
      "    - Tang Dynasty's poetry flourished during the reign of Emperor Taizong and Empress Wu Zetian.\n",
      "    - Technological advancements included the invention of gunpowder and improvements in printing.\n",
      "    - Territorial expansion reached its peak under Emperor Xuanzong.\n",
      "    - The Han Dynasty had significant contributions in law, philosophy, and infrastructure.\n",
      "    - The Song Dynasty excelled in science, technology, and commerce.\n",
      "    - The Ming Dynasty is known for its maritime expeditions and construction projects.\n",
      "  result: The Tang Dynasty made significant contributions in culture and technology, but other dynasties also have notable achievements in different fields.\n",
      "\n",
      "reflection_2:\n",
      "  conclusion:\n",
      "    - The Tang Dynasty was a period of great cultural and technological advancement, but other dynasties also had significant impacts in various areas.\n",
      "    - The \"greatest\" dynasty is a subjective title that varies based on the criteria used for evaluation.\n",
      "  warnings:\n",
      "    - The term \"greatest\" remains subjective and can vary based on individual perspectives.\n",
      "  confirm:\n",
      "    - question: There is nothing under `warnings` node, YES or NO?\n",
      "      reason: There are indeed warnings listed.\n",
      "      answer: NO\n",
      "    - question: With current thoughts and conclusions, can you generate a best response?\n",
      "      reason: The conclusion provides a balanced view considering the subjectivity involved.\n",
      "      answer: YES\n",
      "    - question: Current discussion is proved correct?\n",
      "      reason: The discussion acknowledges the subjectivity and provides a balanced perspective.\n",
      "      answer: YES\n",
      "    - question: There is no more background information that can be provided?\n",
      "      reason: The provided information covers the main points necessary for the discussion.\n",
      "      answer: YES\n",
      "  next: STOP\n",
      "```\n",
      "!!above is chain-of-thought result.\r\n"
     ]
    },
    {
     "data": {
      "text/plain": [
       "The concept of the \"greatest\" dynasty in Chinese history is inherently subjective and depends on the criteria used for evaluation. The Tang Dynasty is noted for significant cultural advancements, particularly in poetry, and technological innovations, including the invention of gunpowder and improvements in printing. Under Emperor Xuanzong, territorial expansion also reached its peak. However, other dynasties such as the Han, with contributions in law, philosophy, and infrastructure, and the Song, which excelled in science, technology, and commerce, also made substantial impacts in different areas. The Ming Dynasty is recognized for its maritime expeditions and construction projects. Each dynasty contributed uniquely to Chinese history, making it challenging to declare one as the \"greatest.\" Evaluating dynasties requires a balanced approach considering various aspects of historical significance, and the term \"greatest\" remains subjective based on individual perspectives."
      ]
     },
     "execution_count": 14,
     "metadata": {},
     "output_type": "execute_result"
    }
   ],
   "execution_count": 14
  },
  {
   "metadata": {
    "ExecuteTime": {
     "end_time": "2024-11-26T03:19:49.157325800Z",
     "start_time": "2024-11-26T03:19:28.516396300Z"
    }
   },
   "cell_type": "code",
   "source": [
    "runBlocking {\n",
    "    cotChatModel.chat(\"Explain that more detailed.\")\n",
    "}"
   ],
   "outputs": [
    {
     "name": "stdout",
     "output_type": "stream",
     "text": [
      "!!Chain-of-thought result: \n",
      "```yml\n",
      "process_1:\n",
      "  outline:\n",
      "    - Define what criteria should be used to determine if a dynasty is considered \"greatest\"\n",
      "    - List key achievements and characteristics of the Tang Dynasty\n",
      "    - Compare these achievements with other dynasties in Chinese history\n",
      "    - Reach a conclusion based on the comparison\n",
      "  thinks:\n",
      "    - Criteria for determining greatness could include cultural advancements, technological innovations, territorial expansion, economic prosperity, and influence on subsequent periods.\n",
      "    - Key achievements of the Tang Dynasty include the flourishing of poetry, advancements in science and technology, a strong centralized government, and significant territorial expansion.\n",
      "    - Other dynasties such as the Han, Song, and Ming also had notable accomplishments.\n",
      "    - Comparing these dynasties involves evaluating their contributions in various fields.\n",
      "    - The Tang Dynasty's impact on poetry and culture was profound, but how does this compare to other aspects like economy and governance?\n",
      "  result: <DIFFICULTY> Determining the \"greatest\" dynasty requires a subjective evaluation that may vary depending on the criteria used.\n",
      "\n",
      "reflection_1:\n",
      "  conclusion:\n",
      "    - The concept of the \"greatest\" dynasty is subjective and depends on the criteria used for evaluation.\n",
      "    - Tang Dynasty had significant cultural and technological achievements, but other dynasties also made substantial contributions in different areas.\n",
      "    - The comparison of dynasties should consider multiple dimensions including culture, technology, economy, and governance.\n",
      "  warnings:\n",
      "    - The term \"greatest\" is subjective and can vary based on individual perspectives and criteria.\n",
      "    - Evaluating dynasties requires a balanced approach considering various aspects of historical significance.\n",
      "  confirm:\n",
      "    - question: There is nothing under `warnings` node, YES or NO?\n",
      "      reason: There are indeed warnings listed.\n",
      "      answer: NO\n",
      "    - question: With current thoughts and conclusions, can you generate a best response?\n",
      "      reason: The conclusion provides a balanced view considering the subjectivity involved.\n",
      "      answer: YES\n",
      "    - question: Current discussion is proved correct?\n",
      "      reason: The discussion acknowledges the subjectivity and provides a balanced perspective.\n",
      "      answer: YES\n",
      "    - question: There is no more background information that can be provided?\n",
      "      reason: The provided information covers the main points necessary for the discussion.\n",
      "      answer: YES\n",
      "  next: CONTINUE\n",
      "\n",
      "process_2:\n",
      "  outline:\n",
      "    - Further explore specific achievements of the Tang Dynasty\n",
      "    - Compare these achievements with those of other dynasties\n",
      "    - Summarize findings to reinforce the conclusion\n",
      "  thinks:\n",
      "    - Tang Dynasty's poetry flourished during the reign of Emperor Taizong and Empress Wu Zetian, with famous poets like Li Bai and Du Fu.\n",
      "    - Technological advancements included the invention of gunpowder and improvements in printing techniques.\n",
      "    - Territorial expansion reached its peak under Emperor Xuanzong, with control over parts of Central Asia.\n",
      "    - The Han Dynasty had significant contributions in law, philosophy (Confucianism), and infrastructure projects like the Grand Canal.\n",
      "    - The Song Dynasty excelled in science, technology (invention of the compass and paper money), and commerce, leading to economic prosperity.\n",
      "    - The Ming Dynasty is known for its maritime expeditions led by Admiral Zheng He and construction projects like the Great Wall and Forbidden City.\n",
      "  result: The Tang Dynasty made significant contributions in culture and technology, but other dynasties also have notable achievements in different fields.\n",
      "\n",
      "reflection_2:\n",
      "  conclusion:\n",
      "    - The Tang Dynasty was a period of great cultural and technological advancement, but other dynasties also had significant impacts in various areas.\n",
      "    - The \"greatest\" dynasty is a subjective title that varies based on the criteria used for evaluation.\n",
      "  warnings:\n",
      "    - The term \"greatest\" remains subjective and can vary based on individual perspectives.\n",
      "  confirm:\n",
      "    - question: There is nothing under `warnings` node, YES or NO?\n",
      "      reason: There are indeed warnings listed.\n",
      "      answer: NO\n",
      "    - question: With current thoughts and conclusions, can you generate a best response?\n",
      "      reason: The conclusion provides a balanced view considering the subjectivity involved.\n",
      "      answer: YES\n",
      "    - question: Current discussion is proved correct?\n",
      "      reason: The discussion acknowledges the subjectivity and provides a balanced perspective.\n",
      "      answer: YES\n",
      "    - question: There is no more background information that can be provided?\n",
      "      reason: The provided information covers the main points necessary for the discussion.\n",
      "      answer: YES\n",
      "  next: STOP\n",
      "```\n",
      "!!above is chain-of-thought result.\r\n"
     ]
    },
    {
     "data": {
      "text/plain": [
       "The concept of the \"greatest\" dynasty in Chinese history is subjective and depends on the criteria used for evaluation. For the Tang Dynasty, key achievements include the flourishing of poetry, advancements in science and technology, a strong centralized government, and significant territorial expansion. Notable poets like Li Bai and Du Fu thrived during this era, and technological advancements such as the invention of gunpowder and improvements in printing were made. Territorial expansion peaked under Emperor Xuanzong, extending control over parts of Central Asia.\n",
       "\n",
       "Comparatively, the Han Dynasty contributed significantly to law, philosophy (especially Confucianism), and infrastructure projects like the Grand Canal. The Song Dynasty excelled in science, technology (including the invention of the compass and paper money), and commerce, leading to economic prosperity. The Ming Dynasty is recognized for maritime expeditions led by Admiral Zheng He and major construction projects such as the Great Wall and Forbidden City.\n",
       "\n",
       "Determining the \"greatest\" dynasty requires a subjective evaluation that may vary depending on the criteria used. While the Tang Dynasty had profound cultural and technological achievements, other dynasties also made substantial contributions in different areas such as law, philosophy, infrastructure, science, technology, and commerce. The comparison of dynasties should consider multiple dimensions including culture, technology, economy, and governance. Thus, the term \"greatest\" is inherently subjective and can vary based on individual perspectives and criteria."
      ]
     },
     "execution_count": 15,
     "metadata": {},
     "output_type": "execute_result"
    }
   ],
   "execution_count": 15
  }
 ],
 "metadata": {
  "kernelspec": {
   "display_name": "Kotlin",
   "language": "kotlin",
   "name": "kotlin"
  },
  "language_info": {
   "name": "kotlin",
   "version": "1.9.23",
   "mimetype": "text/x-kotlin",
   "file_extension": ".kt",
   "pygments_lexer": "kotlin",
   "codemirror_mode": "text/x-kotlin",
   "nbconvert_exporter": ""
  }
 },
 "nbformat": 4,
 "nbformat_minor": 0
}
