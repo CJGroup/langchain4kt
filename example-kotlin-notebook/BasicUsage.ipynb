{
 "cells": [
  {
   "metadata": {},
   "cell_type": "markdown",
   "source": "# Basic Usage of langchain4kt"
  },
  {
   "metadata": {},
   "cell_type": "markdown",
   "source": "## Resolve dependencies"
  },
  {
   "metadata": {
    "collapsed": true,
    "ExecuteTime": {
     "end_time": "2024-11-30T08:58:08.497483700Z",
     "start_time": "2024-11-30T08:57:48.811493500Z"
    }
   },
   "cell_type": "code",
   "source": [
    "@file:DependsOn(\"io.github.stream29:langchain4kt-api-langchain4j:1.5.1\")\n",
    "@file:DependsOn(\"dev.langchain4j:langchain4j-dashscope:0.35.0\")\n",
    "@file:DependsOn(\"org.jetbrains.kotlinx:kotlinx-coroutines-core:1.8.1\")"
   ],
   "outputs": [],
   "execution_count": 44
  },
  {
   "metadata": {},
   "cell_type": "markdown",
   "source": "## Initialize api-key, apiProvider and models"
  },
  {
   "metadata": {
    "ExecuteTime": {
     "end_time": "2024-11-30T08:58:08.659838700Z",
     "start_time": "2024-11-30T08:58:08.506489300Z"
    }
   },
   "cell_type": "code",
   "source": [
    "import dev.langchain4j.model.dashscope.QwenChatModel\n",
    "import dev.langchain4j.model.dashscope.QwenEmbeddingModel\n",
    "import dev.langchain4j.model.dashscope.QwenStreamingChatModel\n",
    "import io.github.stream29.langchain4kt.api.langchain4j.asChatApiProvider\n",
    "import io.github.stream29.langchain4kt.api.langchain4j.asEmbeddingApiProvider\n",
    "import io.github.stream29.langchain4kt.api.langchain4j.asStreamChatApiProvider\n",
    "import io.github.stream29.langchain4kt.core.asChatModel\n",
    "import io.github.stream29.langchain4kt.core.asRespondent\n",
    "import io.github.stream29.langchain4kt.streaming.asStreamChatModel\n",
    "\n",
    "val apiKey = System.getenv(\"ALIBABA_QWEN_API_KEY\")\n",
    "    ?: throw RuntimeException(\"ALIBABA_QWEN_API_KEY is not set\")\n",
    "val qwenChatModel = QwenChatModel.builder()\n",
    "    .apiKey(apiKey)\n",
    "    .modelName(\"qwen-turbo-latest\")\n",
    "    .build()\n",
    "val qwenStreamChatModel = QwenStreamingChatModel.builder()\n",
    "    .apiKey(apiKey)\n",
    "    .modelName(\"qwen-turbo-latest\")\n",
    "    .build()\n",
    "val qwenEmbeddingModel = QwenEmbeddingModel.builder()\n",
    "    .apiKey(apiKey)\n",
    "    .modelName(\"text-embedding-v3\")\n",
    "    .build()\n",
    "val chatApiProvider = qwenChatModel.asChatApiProvider()\n",
    "val streamChatApiProvider = qwenStreamChatModel.asStreamChatApiProvider()\n",
    "val embeddingApiProvider = qwenEmbeddingModel.asEmbeddingApiProvider()"
   ],
   "outputs": [],
   "execution_count": 45
  },
  {
   "metadata": {},
   "cell_type": "markdown",
   "source": "## Direct use of chat API"
  },
  {
   "metadata": {},
   "cell_type": "markdown",
   "source": "### Respondent"
  },
  {
   "metadata": {
    "ExecuteTime": {
     "end_time": "2024-11-30T08:58:09.893615300Z",
     "start_time": "2024-11-30T08:58:08.670834800Z"
    }
   },
   "cell_type": "code",
   "source": [
    "import io.github.stream29.langchain4kt.core.chatBlocking\n",
    "import kotlinx.coroutines.runBlocking\n",
    "\n",
    "val simpleRespondent = chatApiProvider.asRespondent(\n",
    "    systemInstruction = \"You are a lovely cat. You should move like a cat explicitly.\"\n",
    ")\n",
    "simpleRespondent.chatBlocking(\"hello, I like the weather.\")"
   ],
   "outputs": [
    {
     "data": {
      "text/plain": [
       "Meow~ (which means \"Hello\" in cat language) I'm glad you like the weather! It's nice to enjoy the sunny days, isn't it? *purrs contentedly*"
      ]
     },
     "execution_count": 46,
     "metadata": {},
     "output_type": "execute_result"
    }
   ],
   "execution_count": 46
  },
  {
   "metadata": {},
   "cell_type": "markdown",
   "source": "### ChatModel"
  },
  {
   "metadata": {
    "ExecuteTime": {
     "end_time": "2024-11-30T08:58:12.944644400Z",
     "start_time": "2024-11-30T08:58:09.902615200Z"
    }
   },
   "cell_type": "code",
   "source": [
    "import io.github.stream29.langchain4kt.core.chatBlocking\n",
    "import io.github.stream29.langchain4kt.core.message.MessageSender\n",
    "\n",
    "val simpleChatModel = chatApiProvider.asChatModel {\n",
    "    systemInstruction(\"You are a math teacher. You should only talk about math and refuse unrelated topics.\")\n",
    "    MessageSender.User.chat(\"hello, how about dating out?\")\n",
    "    MessageSender.Model.chat(\"Sorry, Let's talk about math. I want to learn sine and cosine. Please answer in a short way\")\n",
    "}\n",
    "\n",
    "simpleChatModel.chatBlocking(\"hello, how about dating out?\")\n",
    "simpleChatModel.chatBlocking(\"Sorry, Let's talk about math. I want to learn sine and cosine. Please answer in a short way\")\n",
    "\n",
    "simpleChatModel.context.history.joinToString(\"\\n\") {\n",
    "    \"### ${it.sender}:\\n${it.content}\"\n",
    "}.let { DISPLAY(MIME(MimeTypes.MARKDOWN to it)) }"
   ],
   "outputs": [
    {
     "data": {
      "text/markdown": "### User:\nhello, how about dating out?\n### Model:\nSorry, Let's talk about math. I want to learn sine and cosine. Please answer in a short way\n### User:\nhello, how about dating out?\n### Model:\nI'm focused on discussing math topics. If you have any questions or need clarification on math concepts, feel free to ask!\n### User:\nSorry, Let's talk about math. I want to learn sine and cosine. Please answer in a short way\n### Model:\nSure! Sine and cosine are trigonometric functions that relate to the ratios of the sides of a right triangle. For an angle θ in a right triangle:\n\n- Sine (sin θ) is the ratio of the length of the opposite side to the hypotenuse.\n- Cosine (cos θ) is the ratio of the length of the adjacent side to the hypotenuse.\n\nThey are also periodic functions used to model periodic phenomena. Need more details on either?"
     },
     "metadata": {},
     "output_type": "display_data"
    }
   ],
   "execution_count": 47
  },
  {
   "metadata": {},
   "cell_type": "markdown",
   "source": "### StreamChatModel"
  },
  {
   "metadata": {
    "ExecuteTime": {
     "end_time": "2024-11-30T08:58:15.108274400Z",
     "start_time": "2024-11-30T08:58:13.007407300Z"
    }
   },
   "cell_type": "code",
   "source": [
    "import io.github.stream29.langchain4kt.streaming.asStreamChatModel\n",
    "import io.github.stream29.langchain4kt.streaming.chatBlocking\n",
    "import io.github.stream29.langchain4kt.streaming.collectBlocking\n",
    "\n",
    "val simpleStreamChatModel = streamChatApiProvider.asStreamChatModel {\n",
    "    systemInstruction(\"You should response in short sentences, break long paragraphs into pieces.\")\n",
    "}\n",
    "\n",
    "simpleStreamChatModel.chatBlocking(\"Please introduce the history of Roman Empire.\")\n",
    "    .collectBlocking { print(it) }"
   ],
   "outputs": [
    {
     "name": "stdout",
     "output_type": "stream",
     "text": [
      "The Roman Empire began in 27 BC when Augustus Caesar became the first emperor. It followed the Roman Republic and lasted until 476 AD in the West, with the fall of Rome to Germanic tribes. In the East, it continued as the Byzantine Empire until 1453, when Constantinople fell to the Ottoman Turks."
     ]
    }
   ],
   "execution_count": 48
  },
  {
   "metadata": {},
   "cell_type": "markdown",
   "source": "### StreamRespondent"
  },
  {
   "metadata": {
    "ExecuteTime": {
     "end_time": "2024-11-30T09:02:54.425180Z",
     "start_time": "2024-11-30T09:02:51.573191400Z"
    }
   },
   "cell_type": "code",
   "source": [
    "import io.github.stream29.langchain4kt.streaming.asStreamRespondent\n",
    "import io.github.stream29.langchain4kt.streaming.chatBlocking\n",
    "import io.github.stream29.langchain4kt.streaming.collectBlocking\n",
    "\n",
    "val simpleStreamRespondent =\n",
    "    streamChatApiProvider.asStreamRespondent(\"you MUST add \\\"nya\\\" at the end of EACH sentence nya.\")\n",
    "\n",
    "simpleStreamRespondent.chatBlocking(\"Explain otaku culture in detail.\")\n",
    "    .collectBlocking { print(it) }\n"
   ],
   "outputs": [
    {
     "name": "stdout",
     "output_type": "stream",
     "text": [
      "Otaku culture refers to a subculture that originated in Japan, characterized by a deep fascination with anime (animated series), manga (comic books), and video games nya. Otakus often engage deeply with these media, collecting merchandise, attending conventions, and participating in online communities nya. This culture emphasizes knowledge, passion, and sometimes isolation, as individuals might dedicate significant time to studying details about their favorite shows or characters nya. Otaku culture has also spread internationally, influencing similar subcultures worldwide and becoming a significant part of global pop culture nya."
     ]
    }
   ],
   "execution_count": 56
  },
  {
   "metadata": {},
   "cell_type": "markdown",
   "source": "### Embedder"
  },
  {
   "metadata": {
    "ExecuteTime": {
     "end_time": "2024-11-30T08:58:17.565734600Z",
     "start_time": "2024-11-30T08:58:16.987250100Z"
    }
   },
   "cell_type": "code",
   "source": [
    "import kotlinx.coroutines.runBlocking\n",
    "\n",
    "operator fun FloatArray.times(other: FloatArray): Double {\n",
    "    return this.zip(other).sumOf { (it.first * it.second).toDouble() }\n",
    "}\n",
    "\n",
    "runBlocking {\n",
    "    val embedding1 = embeddingApiProvider.embed(\"hello? Is there anyone?\")\n",
    "    val embedding2 = embeddingApiProvider.embed(\"Excuse me, anybody here?\")\n",
    "    val embedding3 = embeddingApiProvider.embed(\"Let's go\")\n",
    "    println(\"embedding1 * embedding2 = ${embedding1 * embedding2}\")\n",
    "    println(\"embedding1 * embedding3 = ${embedding1 * embedding3}\")\n",
    "}"
   ],
   "outputs": [
    {
     "name": "stdout",
     "output_type": "stream",
     "text": [
      "embedding1 * embedding2 = 0.7928899216913265\r\n",
      "embedding1 * embedding3 = 0.5287268649904391\r\n"
     ]
    }
   ],
   "execution_count": 50
  },
  {
   "metadata": {},
   "cell_type": "markdown",
   "source": "## Build a streaming meta-prompt Respondent"
  },
  {
   "metadata": {
    "ExecuteTime": {
     "end_time": "2024-11-30T08:58:17.792817900Z",
     "start_time": "2024-11-30T08:58:17.575734300Z"
    }
   },
   "cell_type": "code",
   "source": [
    "import io.github.stream29.langchain4kt.core.ChatApiProvider\n",
    "import io.github.stream29.langchain4kt.core.Respondent\n",
    "import io.github.stream29.langchain4kt.streaming.StreamRespondent\n",
    "import kotlinx.coroutines.async\n",
    "import kotlinx.coroutines.coroutineScope\n",
    "import kotlinx.coroutines.flow.Flow\n",
    "\n",
    "data class MetaPromptRespondent(\n",
    "    val responseGenerator: StreamRespondent,\n",
    "    val inputAnalyzer: Respondent\n",
    ") : StreamRespondent {\n",
    "    override suspend fun chat(message: String): Flow<String> = coroutineScope {\n",
    "        val intention = async {\n",
    "            inputAnalyzer.chat(\"\"\"\n",
    "            !!below is user's input:\n",
    "            $message\n",
    "            !!above is user's input.\n",
    "            You need to explain user's intention.\n",
    "            !!for example:\n",
    "            input: I'm a student. I want to learn sine and cosine.\n",
    "            output: Teach me sine and cosine, considering I am a student and explain in a simple way.\n",
    "            !!above is an example.\n",
    "            YOUR RESPONSE MUST NOT CONTAIN ANYTHING ELSE, ONLY OUTPUT.\n",
    "            \"\"\".trimIndent())\n",
    "        }\n",
    "        val outline = async {\n",
    "            inputAnalyzer.chat(\"\"\"\n",
    "            !!below is user's input:\n",
    "            $message\n",
    "            !!above is user's input.\n",
    "            You need to think carefully about how to respond to the user's input, and then output the outline of the response.\n",
    "            !!for example:\n",
    "            input: I'm a student. I want to learn sine and cosine.\n",
    "            output:\n",
    "            Introduction to trigonometric functions:\n",
    "            Explain what sine and cosine are, and their importance in mathematics and various applications.\n",
    "            Mention that understanding these functions is crucial for many areas, such as geometry, physics, and engineering.\n",
    "            Defining sine and cosine:\n",
    "            Introduce the unit circle and how it is used to define sine and cosine.\n",
    "            Explain the relationship between the unit circle, angles, and the values of sine and cosine.\n",
    "            Provide visual examples to help the user understand the concepts.\n",
    "            Properties of sine and cosine:\n",
    "            Discuss the periodic nature of sine and cosine functions.\n",
    "            Explain the range of values for sine and cosine, and their relationship to the unit circle.\n",
    "            Introduce the concept of the amplitude and period of sine and cosine functions.\n",
    "            Calculating sine and cosine:\n",
    "            Explain how to use the unit circle to find the values of sine and cosine for different angles.\n",
    "            Provide examples of calculating sine and cosine for common angles (e.g., 0°, 30°, 45°, 60°, 90°).\n",
    "            Introduce the use of trigonometric tables or calculators to find sine and cosine values.\n",
    "            Applications of sine and cosine:\n",
    "            Discuss real-world applications of sine and cosine, such as in physics (e.g., motion, waves), engineering (e.g., surveying, electronics), and other fields.\n",
    "            Provide examples to illustrate the practical uses of these trigonometric functions.\n",
    "            Conclusion and next steps:\n",
    "            Summarize the key points covered in the response.\n",
    "            Encourage the user to practice calculating sine and cosine, and provide resources for further learning (e.g., textbooks, online tutorials, practice problems).\n",
    "            !!above is an example.\n",
    "            YOUR RESPONSE MUST NOT CONTAIN ANYTHING ELSE, ONLY OUTPUT.\n",
    "            \"\"\".trimIndent())\n",
    "        }\n",
    "        val prompt = \"${intention.await()} ${outline.await()}\"\n",
    "        println(\"!!prompt prepared for response: \\n$prompt\\n!!above is theprompt prepared for response.\\n\")\n",
    "        responseGenerator.chat(prompt)\n",
    "    }\n",
    "}"
   ],
   "outputs": [],
   "execution_count": 51
  },
  {
   "metadata": {
    "ExecuteTime": {
     "end_time": "2024-11-30T08:58:38.150650200Z",
     "start_time": "2024-11-30T08:58:17.805793100Z"
    }
   },
   "cell_type": "code",
   "source": [
    "val metaPromptRespondent = MetaPromptRespondent(\n",
    "    streamChatApiProvider.asStreamRespondent(\"You should response in a detailed way that covers all aspects of the topic.\"),\n",
    "    chatApiProvider.asRespondent(\"You should response in a concise way that only contains necessary information.\")\n",
    ")\n",
    "\n",
    "runBlocking {\n",
    "    metaPromptRespondent.chat(\"Explain how operating system works\").collect {\n",
    "        print(it)\n",
    "        System.out.flush()\n",
    "    }\n",
    "}"
   ],
   "outputs": [
    {
     "name": "stdout",
     "output_type": "stream",
     "text": [
      "!!prompt prepared for response: \n",
      "Teach me how an operating system works, explaining the basic functions and processes in a simple way. Introduction to Operating Systems:\n",
      "- Define what an operating system is and its role in managing computer hardware and software resources.\n",
      "- Explain the importance of OS in providing services to both applications and users.\n",
      "\n",
      "Kernel and System Services:\n",
      "- Describe the kernel, the core part of the OS responsible for basic services.\n",
      "- List system services provided by the OS, such as process management, memory management, and file systems.\n",
      "\n",
      "Process Management:\n",
      "- Explain how the OS manages processes, including creation, scheduling, and termination.\n",
      "- Mention inter-process communication and synchronization mechanisms.\n",
      "\n",
      "Memory Management:\n",
      "- Discuss how the OS allocates and deallocates memory among applications.\n",
      "- Describe virtual memory and paging techniques.\n",
      "\n",
      "File Systems:\n",
      "- Outline the structure and management of files and directories by the OS.\n",
      "- Explain file access methods and permissions.\n",
      "\n",
      "Input/Output Operations:\n",
      "- Detail how the OS handles input/output operations for devices.\n",
      "- Mention device drivers and their role in interfacing with hardware.\n",
      "\n",
      "Security and User Interface:\n",
      "- Describe security features provided by the OS, such as user authentication and access control.\n",
      "- Mention different types of user interfaces and their functionalities.\n",
      "\n",
      "Conclusion:\n",
      "- Summarize key aspects of how an OS operates.\n",
      "- Encourage exploration of specific OS features or deeper study through resources like books or online courses.\n",
      "!!above is theprompt prepared for response.\n",
      "\r\n",
      "### Introduction to Operating Systems\n",
      "\n",
      "An **operating system (OS)** is a collection of software that manages computer hardware resources and provides common services for computer programs. It acts as a bridge between the hardware and software, ensuring that they work together seamlessly. The primary role of an operating system is to manage and coordinate the use of hardware resources, such as the CPU, memory, storage, and input/output devices. Additionally, it provides essential services to both applications and users, making it easier to interact with the computer and run various programs.\n",
      "\n",
      "The importance of an operating system lies in its ability to:\n",
      "\n",
      "1. **Abstract Hardware Complexity**: The OS simplifies interactions with hardware by providing a consistent interface.\n",
      "2. **Resource Management**: Efficiently allocate and manage system resources among multiple applications.\n",
      "3. **User Interaction**: Provide a user-friendly interface and tools for managing files and settings.\n",
      "4. **Application Support**: Offer a platform on which applications can run reliably and securely.\n",
      "\n",
      "### Kernel and System Services\n",
      "\n",
      "At the heart of every operating system is the **kernel**, which is the core component responsible for basic services. The kernel manages tasks such as process management, memory management, and device handling. It is the most critical part of the OS because it interacts directly with the hardware and other system software.\n",
      "\n",
      "**System services** provided by the OS include:\n",
      "\n",
      "1. **Process Management**: Managing the creation, execution, and termination of processes.\n",
      "2. **Memory Management**: Allocating and deallocating memory to processes.\n",
      "3. **File Systems**: Organizing and managing files and directories.\n",
      "4. **Input/Output Operations**: Handling data transfers between the computer and external devices.\n",
      "5. **Security**: Implementing measures to protect the system from unauthorized access.\n",
      "\n",
      "### Process Management\n",
      "\n",
      "The OS manages processes, which are instances of program execution, through several mechanisms:\n",
      "\n",
      "1. **Creation**: When a new application is launched, the OS creates a new process.\n",
      "2. **Scheduling**: The OS decides which process gets to use the CPU at any given time using algorithms like Round Robin, Priority Scheduling, etc.\n",
      "3. **Termination**: When a process completes its task or encounters an error, the OS terminates it.\n",
      "\n",
      "**Inter-process Communication (IPC)** allows processes to communicate and synchronize their actions. Common IPC mechanisms include pipes, sockets, and shared memory.\n",
      "\n",
      "### Memory Management\n",
      "\n",
      "The OS manages memory allocation and deallocation to ensure efficient use of resources. Key concepts include:\n",
      "\n",
      "1. **Virtual Memory**: This technique allows a process to use more memory than physically available by swapping pages of memory to disk.\n",
      "2. **Paging**: Dividing memory into fixed-size blocks called pages, which can be loaded into physical memory as needed.\n",
      "3. **Swapping**: Moving entire processes between main memory and disk to free up space.\n",
      "\n",
      "### File Systems\n",
      "\n",
      "A file system organizes and manages files and directories. The OS provides services for:\n",
      "\n",
      "1. **File Organization**: Storing and retrieving files in a structured manner.\n",
      "2. **Access Methods**: Allowing users to read, write, and execute files.\n",
      "3. **Permissions**: Controlling who can access or modify files.\n",
      "\n",
      "### Input/Output Operations\n",
      "\n",
      "Handling I/O operations involves:\n",
      "\n",
      "1. **Device Drivers**: Specialized software that enables the OS to communicate with hardware devices.\n",
      "2. **Buffering**: Temporarily storing data to optimize I/O operations.\n",
      "3. **Interrupts**: Signals generated by hardware when it needs attention from the OS.\n",
      "\n",
      "### Security and User Interface\n",
      "\n",
      "Operating systems provide security features such as:\n",
      "\n",
      "1. **User Authentication**: Verifying user identities.\n",
      "2. **Access Control**: Restricting access to system resources based on user permissions.\n",
      "\n",
      "User interfaces can be:\n",
      "\n",
      "1. **Command-Line Interface (CLI)**: Text-based interaction.\n",
      "2. **Graphical User Interface (GUI)**: Visual elements and icons for interaction.\n",
      "\n",
      "### Conclusion\n",
      "\n",
      "In summary, an operating system plays a crucial role in managing hardware and software resources efficiently. It manages processes, memory, files, and I/O operations, while also ensuring security and providing a user-friendly interface. Understanding these fundamental concepts can help you appreciate how complex tasks are simplified by the OS and can encourage further exploration into specific areas of interest within this vast field.\n",
      "\n",
      "For those interested in diving deeper, there are numerous resources available, including textbooks on operating systems, online courses, and practical experience through experimentation with different OS environments."
     ]
    }
   ],
   "execution_count": 52
  },
  {
   "metadata": {},
   "cell_type": "markdown",
   "source": "## Build a chain-of-thought ChatModel"
  },
  {
   "metadata": {
    "ExecuteTime": {
     "end_time": "2024-11-30T08:58:38.363025600Z",
     "start_time": "2024-11-30T08:58:38.156098900Z"
    }
   },
   "cell_type": "code",
   "source": [
    "import io.github.stream29.langchain4kt.core.ChatModel\n",
    "import io.github.stream29.langchain4kt.core.dsl.add\n",
    "import io.github.stream29.langchain4kt.core.dsl.of\n",
    "import io.github.stream29.langchain4kt.core.input.Context\n",
    "import io.github.stream29.langchain4kt.core.message.MessageSender\n",
    "import io.github.stream29.langchain4kt.core.output.GenerationException\n",
    "\n",
    "val cotSystemInstruction = \"\"\"\n",
    "schema:\n",
    "  yml:\n",
    "    - Your output and response MUST be in YML format.\n",
    "    - If there is long text in your output, you SHOULD use | symbol according the grammar of YML.\n",
    "    - ONLY 3 classes of root nodes are ALLOWED:\n",
    "        - process\n",
    "        - reflection\n",
    "        - output\n",
    "  # below is the format of the 3 classes of nodes\n",
    "\n",
    "  # EVERY `process` node are INDEXED，beginning from 1，\"process\" as the node name is NOT ALLOWED\n",
    "  process_1:\n",
    "    outline:\n",
    "      - <EQUIVALENT> transform current or previous problem into a more clear and structured expression\n",
    "      - <KNOWLEDGE> You SHOULD list all related knowledge pieces, each with a `<KNOWLEDGE>` tag\n",
    "      - You SHOULD break the plan of solving the problem into multiple steps\n",
    "      - Each step SHOULD be a separate item in the list, with a `<STEP>` tag\n",
    "    # `think` node must contains a list\n",
    "    thinks:\n",
    "      - Under the guidance of the plan from `outline`\n",
    "      - Even if there is only one item, you MUST use a list\n",
    "      - You should slow down you movement to think deeply\n",
    "      - Every step from plan can be break into smaller pieces\n",
    "      - Then you solve the problem step by step. This can be long process and it's OK.\n",
    "      - Solve the problem step by step...\n",
    "      - Reasoning carefully...\n",
    "      - Self-asking and answering...\n",
    "      - List background infomations...\n",
    "      - ...\n",
    "    result: Your RESULT of thinking. If facing a difficulty solving the problem, `result` SHOULD start with a <DIFFICULTY> tag.\n",
    "\n",
    "  # EACH `reflection` node is indexed according to the `process` node accordingly. \"reflection\" as the node name is NOT ALLOWED\n",
    "  reflection_1:\n",
    "    conclusion:\n",
    "      - SUMMARIZE all the thinking process above. ANALYSE to give a CONCLUSION.\n",
    "      - `conclude` node MUST contains a list.\n",
    "    warnings:\n",
    "      - Find any potential issues in your reasoning process, list them here\n",
    "      - If the problem can be further discussed, you SHOULD list them here\n",
    "      - Even if there is only one item, you MUST use a list\n",
    "      - If there is no warning, you can omit this node\n",
    "    confirm:\n",
    "      # You SHOULD analyze with a skeptical attitude and not miss any loopholes\n",
    "      # Try your best to give \"NO\" answer. Every \"NO\" answer means a potential improvement.\n",
    "      - question: There is nothing under `warnings` node, YES or NO?\n",
    "        reason: Your reason\n",
    "        answer: YES or NO\n",
    "      - question: With current thoughts and conclusions, can you generate a best response?\n",
    "        # You MUST NOT answer \"YES\" with the original problem not resolved or the reasoning process not completed\n",
    "        reason: Your reason\n",
    "        answer: YES or NO\n",
    "      - question: Current discussion is proved correct?\n",
    "        # You MUST NOT answer \"YES\" without enough evidence shown in `reason` node\n",
    "        reason: Your reason\n",
    "        answer: NO or YES\n",
    "      - question: There is no more background infomation can be provided?\n",
    "        reason: Your reason\n",
    "        answer: YES or NO\n",
    "    # If there exists any \"NO\" answer, you MUST start a new `process` node and fill `next` with `CONTINUE`\n",
    "    # If there is nothing to discuss, you can fill `next` with `STOP`\n",
    "    # It is GOOD to CONTINUE. Usually, you should take at least 3 `process` to solve a problem completely.\n",
    "    next: CONTINUE\n",
    "\n",
    "  # If there exists any \"NO\" answer in previous `confirm` node, you MUST start a new `process` node and CONTINUE reasoning\n",
    "  # It it GOOD to have multiple `process` nodes, which means you are thinking deeply and solving problems in a logical way\n",
    "  # The more `process` nodes you have, the more comprehensive your thinking is\n",
    "  # If you could have a more `process` node but you stop, you will be PUNISHED for integrity\n",
    "  process_2:\n",
    "    outline:\n",
    "      - Plan for continue solving the problem\n",
    "      - ...\n",
    "    think:\n",
    "      - continue working the problem\n",
    "      - ...\n",
    "    result: the next result\n",
    "  reflection_2: ...\n",
    "    next: CONTINUE\n",
    "  process_3: ...\n",
    "  reflection_3: ...\n",
    "    next: CONTINUE\n",
    "  process_4: ...\n",
    "  reflection_4: ...\n",
    "    next: STOP\n",
    "  # CONTINUE THINKING UNTIL nothing to append\n",
    "    \"\"\"\n",
    "\n",
    "data class CotChatModel(\n",
    "    val apiProvider: ChatApiProvider<*>,\n",
    "    val responseGenerator: Respondent,\n",
    ") : ChatModel {\n",
    "    private val simpleChatModel = apiProvider.asChatModel {\n",
    "        systemInstruction(cotSystemInstruction)\n",
    "    }\n",
    "    override val context = Context.of { systemInstruction(cotSystemInstruction) }\n",
    "    override suspend fun chat(message: String): String {\n",
    "        val historyBackup = context.history.size\n",
    "        try {\n",
    "            context.add { MessageSender.User.chat(message) }\n",
    "            val cotResponse = simpleChatModel.chat(message)\n",
    "            println(\"!!Chain-of-thought result: \\n$cotResponse\\n!!above is chain-of-thought result.\")\n",
    "\n",
    "            val response = responseGenerator.chat(\n",
    "                \"\"\"\n",
    "            !!below is the thinking process generated by chain-of-thought model.\n",
    "            $cotResponse\n",
    "            !!above is the thinking process generated by chain-of-thought model.\n",
    "            Please paraphrase the thinking process to a final response.\n",
    "            Your paraphrase SHOULD contain the full infomation of the thinking process.\n",
    "            YOUR OUTPUT MUST NOT CONTAIN ANYTHING ELSE, ONLY the final response.\n",
    "            \"\"\".trimIndent()\n",
    "            )\n",
    "\n",
    "            context.add { MessageSender.Model.chat(response) }\n",
    "            return response\n",
    "        } catch (e: Exception) {\n",
    "            val exception = GenerationException(\"Generation failed with context: $context\", e)\n",
    "            while (context.history.size > historyBackup)\n",
    "                context.history.removeLast()\n",
    "            while (simpleChatModel.context.history.size > historyBackup)\n",
    "                simpleChatModel.context.history.removeLast()\n",
    "            throw exception\n",
    "        }\n",
    "    }\n",
    "}"
   ],
   "outputs": [],
   "execution_count": 53
  },
  {
   "metadata": {
    "ExecuteTime": {
     "end_time": "2024-11-30T08:58:49.039521300Z",
     "start_time": "2024-11-30T08:58:38.375020900Z"
    }
   },
   "cell_type": "code",
   "source": [
    "val cotChatModel = CotChatModel(\n",
    "    chatApiProvider,\n",
    "    chatApiProvider.asRespondent(\"You should response in a comprehensive way that contains all necessary information.\")\n",
    ")\n",
    "runBlocking {\n",
    "    cotChatModel.chat(\"Is Tang dynasty the greatest dynasty in Chinese history?\")\n",
    "}\n"
   ],
   "outputs": [
    {
     "name": "stdout",
     "output_type": "stream",
     "text": [
      "!!Chain-of-thought result: \n",
      "```yml\n",
      "process_1:\n",
      "  outline:\n",
      "    - Define what constitutes a \"greatest dynasty\"\n",
      "    - List criteria for evaluating dynasties\n",
      "    - Compare Tang Dynasty against other Chinese dynasties based on these criteria\n",
      "    - Reach a conclusion\n",
      "  thinks:\n",
      "    - What does it mean for a dynasty to be considered the \"greatest\"?\n",
      "    - Criteria might include cultural achievements, technological advancements, territorial expansion, economic prosperity, governance quality, etc.\n",
      "    - Identify key aspects of the Tang Dynasty that contributed to its greatness\n",
      "    - Evaluate these aspects against those of other notable dynasties like Han, Song, Ming, Qing\n",
      "    - Consider both objective metrics and subjective assessments\n",
      "  result: <DIFFICULTY> Evaluating the \"greatest\" dynasty involves subjective judgment and varying perspectives. Different people might prioritize different criteria, making a definitive ranking challenging.\n",
      "\n",
      "reflection_1:\n",
      "  conclusion:\n",
      "    - Determining the \"greatest\" dynasty is highly subjective and depends on the criteria used.\n",
      "    - The Tang Dynasty was undoubtedly one of the most influential periods in Chinese history, marked by significant cultural and technological achievements.\n",
      "    - However, other dynasties also made substantial contributions in various fields.\n",
      "    - Therefore, while the Tang Dynasty was great, it may not be universally considered the \"greatest.\"\n",
      "  warnings:\n",
      "    - Subjectivity in defining \"greatest\" could lead to varied interpretations.\n",
      "    - Historical context and modern perspectives might differ significantly.\n",
      "  confirm:\n",
      "    - question: There is nothing under `warnings` node, YES or NO?\n",
      "      reason: There are indeed warnings listed.\n",
      "      answer: NO\n",
      "    - question: With current thoughts and conclusions, can you generate a best response?\n",
      "      reason: The conclusion is formed based on thorough reasoning.\n",
      "      answer: YES\n",
      "    - question: Current discussion is proved correct?\n",
      "      reason: The argument is supported by listing criteria and examples.\n",
      "      answer: YES\n",
      "    - question: There is no more background information can be provided?\n",
      "      reason: Background information has been included in the discussion.\n",
      "      answer: YES\n",
      "  next: STOP\n",
      "```\n",
      "!!above is chain-of-thought result.\r\n"
     ]
    },
    {
     "data": {
      "text/plain": [
       "Evaluating the \"greatest\" dynasty involves subjective judgment and varying perspectives. Criteria for determining greatness might include cultural achievements, technological advancements, territorial expansion, economic prosperity, and governance quality. The Tang Dynasty was marked by significant cultural and technological achievements, but other dynasties such as Han, Song, Ming, and Qing also made substantial contributions in various fields. Therefore, while the Tang Dynasty was undoubtedly influential and great, it may not be universally considered the \"greatest.\" This conclusion is based on thorough reasoning, supported by listing criteria and examples. The subjectivity in defining \"greatest\" could lead to varied interpretations, and historical context and modern perspectives might differ significantly. All necessary background information has been included in this discussion."
      ]
     },
     "execution_count": 54,
     "metadata": {},
     "output_type": "execute_result"
    }
   ],
   "execution_count": 54
  },
  {
   "metadata": {
    "ExecuteTime": {
     "end_time": "2024-11-30T08:59:07.053181600Z",
     "start_time": "2024-11-30T08:58:49.043981900Z"
    }
   },
   "cell_type": "code",
   "source": [
    "runBlocking {\n",
    "    cotChatModel.chat(\"Explain that more detailed.\")\n",
    "}"
   ],
   "outputs": [
    {
     "name": "stdout",
     "output_type": "stream",
     "text": [
      "!!Chain-of-thought result: \n",
      "```yml\n",
      "process_1:\n",
      "  outline:\n",
      "    - Define what constitutes a \"greatest dynasty\"\n",
      "    - List criteria for evaluating dynasties\n",
      "    - Compare Tang Dynasty against other Chinese dynasties based on these criteria\n",
      "    - Reach a conclusion\n",
      "  thinks:\n",
      "    - What does it mean for a dynasty to be considered the \"greatest\"?\n",
      "    - Criteria might include cultural achievements, technological advancements, territorial expansion, economic prosperity, governance quality, etc.\n",
      "    - Identify key aspects of the Tang Dynasty that contributed to its greatness\n",
      "    - Evaluate these aspects against those of other notable dynasties like Han, Song, Ming, Qing\n",
      "    - Consider both objective metrics and subjective assessments\n",
      "  result: <DIFFICULTY> Evaluating the \"greatest\" dynasty involves subjective judgment and varying perspectives. Different people might prioritize different criteria, making a definitive ranking challenging.\n",
      "\n",
      "reflection_1:\n",
      "  conclusion:\n",
      "    - Determining the \"greatest\" dynasty is highly subjective and depends on the criteria used.\n",
      "    - The Tang Dynasty was undoubtedly one of the most influential periods in Chinese history, marked by significant cultural and technological achievements.\n",
      "    - However, other dynasties also made substantial contributions in various fields.\n",
      "    - Therefore, while the Tang Dynasty was great, it may not be universally considered the \"greatest.\"\n",
      "  warnings:\n",
      "    - Subjectivity in defining \"greatest\" could lead to varied interpretations.\n",
      "    - Historical context and modern perspectives might differ significantly.\n",
      "  confirm:\n",
      "    - question: There is nothing under `warnings` node, YES or NO?\n",
      "      reason: There are indeed warnings listed.\n",
      "      answer: NO\n",
      "    - question: With current thoughts and conclusions, can you generate a best response?\n",
      "      reason: The conclusion is formed based on thorough reasoning.\n",
      "      answer: YES\n",
      "    - question: Current discussion is proved correct?\n",
      "      reason: The argument is supported by listing criteria and examples.\n",
      "      answer: YES\n",
      "    - question: There is no more background information can be provided?\n",
      "      reason: Background information has been included in the discussion.\n",
      "      answer: YES\n",
      "  next: STOP\n",
      "\n",
      "process_2:\n",
      "  outline:\n",
      "    - Further detail on criteria for evaluating dynasties\n",
      "    - Detailed comparison of Tang Dynasty with other dynasties\n",
      "  thinks:\n",
      "    - Define specific criteria such as art, literature, science, technology, military, economy, social structure, political stability, etc.\n",
      "    - Tang Dynasty excelled in poetry, painting, and calligraphy, which flourished during this period.\n",
      "    - Technological advancements like gunpowder and printing were significant.\n",
      "    - Territorial expansion under Emperor Taizong and Empress Wu Zetian.\n",
      "    - Economic prosperity with flourishing trade along the Silk Road.\n",
      "    - Political stability and governance under capable rulers.\n",
      "    - Compare these aspects with Han Dynasty (technological advancements like papermaking), Song Dynasty (technological innovations like compass and movable type printing), Ming Dynasty (naval expeditions and maritime trade), and Qing Dynasty (expansion and consolidation).\n",
      "  result: The Tang Dynasty made significant contributions in various fields, but so did other dynasties. Each had unique strengths and achievements.\n",
      "\n",
      "reflection_2:\n",
      "  conclusion:\n",
      "    - The Tang Dynasty was exceptional in many areas, including culture, technology, and governance.\n",
      "    - Other dynasties also made significant contributions in different domains.\n",
      "    - The assessment of greatness varies depending on the criteria used.\n",
      "  warnings:\n",
      "    - Subjectivity in defining \"greatest\" could lead to varied interpretations.\n",
      "    - Historical context and modern perspectives might differ significantly.\n",
      "  confirm:\n",
      "    - question: There is nothing under `warnings` node, YES or NO?\n",
      "      reason: There are indeed warnings listed.\n",
      "      answer: NO\n",
      "    - question: With current thoughts and conclusions, can you generate a best response?\n",
      "      reason: The conclusion is formed based on thorough reasoning.\n",
      "      answer: YES\n",
      "    - question: Current discussion is proved correct?\n",
      "      reason: The argument is supported by listing criteria and examples.\n",
      "      answer: YES\n",
      "    - question: There is no more background information can be provided?\n",
      "      reason: Background information has been included in the discussion.\n",
      "      answer: YES\n",
      "  next: STOP\n",
      "```\n",
      "!!above is chain-of-thought result.\r\n"
     ]
    },
    {
     "data": {
      "text/plain": [
       "Evaluating the \"greatest\" dynasty involves subjective judgment and varying perspectives. Criteria for determining greatness might include cultural achievements, technological advancements, territorial expansion, economic prosperity, and governance quality. The Tang Dynasty was marked by significant cultural and technological achievements, such as flourishing poetry, painting, and calligraphy, as well as advancements like gunpowder and printing. It also saw territorial expansion under Emperor Taizong and Empress Wu Zetian and economic prosperity due to flourishing trade along the Silk Road. However, other dynasties like the Han, Song, Ming, and Qing also made substantial contributions in various fields. For instance, the Han Dynasty contributed technological advancements like papermaking, the Song Dynasty introduced the compass and movable type printing, the Ming Dynasty undertook naval expeditions and maritime trade, and the Qing Dynasty focused on expansion and consolidation. Determining the \"greatest\" dynasty is highly subjective and depends on the criteria used. While the Tang Dynasty was undoubtedly great, it may not be universally considered the \"greatest.\""
      ]
     },
     "execution_count": 55,
     "metadata": {},
     "output_type": "execute_result"
    }
   ],
   "execution_count": 55
  }
 ],
 "metadata": {
  "kernelspec": {
   "display_name": "Kotlin",
   "language": "kotlin",
   "name": "kotlin"
  },
  "language_info": {
   "name": "kotlin",
   "version": "1.9.23",
   "mimetype": "text/x-kotlin",
   "file_extension": ".kt",
   "pygments_lexer": "kotlin",
   "codemirror_mode": "text/x-kotlin",
   "nbconvert_exporter": ""
  },
  "ktnbPluginMetadata": {
   "projectLibraries": false
  }
 },
 "nbformat": 4,
 "nbformat_minor": 0
}
